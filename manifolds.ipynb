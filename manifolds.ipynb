{
 "cells": [
  {
   "cell_type": "code",
   "execution_count": 4,
   "metadata": {
    "collapsed": true
   },
   "outputs": [],
   "source": [
    "import numpy\n",
    "import matplotlib.pyplot as plt\n",
    "import math"
   ]
  },
  {
   "cell_type": "code",
   "execution_count": 5,
   "metadata": {
    "collapsed": true
   },
   "outputs": [],
   "source": [
    "def dmoon(y):\n",
    "    Me = 600/607.0\n",
    "    Mm = 7/607.0\n",
    "    y1=numpy.array([0, 0, 0, 0])*1.0\n",
    "    y1[0] = y[2]\n",
    "    y1[1] = y[3]\n",
    "    y1[2] = (2*y[3] + y[0] - (Me*(y[0] - Mm)/(((y[0] - Mm)**2 + y[1]**2)**1.5)) - (Mm*(y[0] - Me)/(((y[0] - Me)**2 + y[1]**2)**1.5))) \n",
    "    y1[3] = (-2*y[2] + y[1] - (Me*y[1]/(((y[0] - Mm)**2 + y[1]**2)**1.5)) - (Mm*y[1]/(((y[0] - Me)**2 + y[1]**2)**1.5)))\n",
    "    return y1\n",
    "def dfunc(y):\n",
    "    Me = 600/607.0\n",
    "    Mm = 7/607.0\n",
    "    ra1=((y[0] + Mm)**2 + y[1]**2)**0.5\n",
    "    ra2=((y[0] - Me)**2 + y[1]**2)**0.5\n",
    "    uxx=-1+(Me/ra1**3)+(Mm/ra2**3)-3*(Me*(y[0]+Mm)**2)/ra1**5-3*(Mm*(y[0]-Me)**2)/ra2**5\n",
    "    uyy=-1+(Me/ra1**3)+(Mm/ra2**3)-3*(Me*(y[1])**2)/ra1**5-3*(Mm*(y[1])**2)/ra2**5\n",
    "    uxy=-3*y[1]*((Me*(y[0]+Mm)/ra1**5)+(Mm*(y[0]-Me)/ra2**5))\n",
    "    df = numpy.identity(4)*1.0\n",
    "    df[0][0]=0\n",
    "    df[0][2]=1\n",
    "    df[1][1]=0\n",
    "    df[1][3]=1\n",
    "    df[2][0]=-uxx\n",
    "    df[2][1]=-uxy\n",
    "    df[2][2]=0\n",
    "    df[2][3]=2\n",
    "    df[3][0]=-uxy\n",
    "    df[3][1]=-uyy\n",
    "    df[3][2]=-2\n",
    "    df[3][3]=0\n",
    "    return df  "
   ]
  },
  {
   "cell_type": "code",
   "execution_count": 18,
   "metadata": {
    "collapsed": false
   },
   "outputs": [
    {
     "name": "stdout",
     "output_type": "stream",
     "text": [
      "1.2797\n",
      "[ 0.84743181  0.          0.         -0.00915036]\n"
     ]
    }
   ],
   "source": [
    "mu_bar= 5.589661960806324186803433350045499936607178228433273279456\n",
    "nu=math.sqrt(-0.5*(mu_bar-2-math.sqrt(9*mu_bar**2-8*mu_bar)))\n",
    "tau=-0.5*(nu**2+2*mu_bar+1)/nu\n",
    "ax=0.001\n",
    "xini=[0.84643180576+ax , 0 , 0 ,-ax*nu*tau]\n",
    "t=0 \n",
    "x= xini\n",
    "phi = numpy.identity(4)\n",
    "h=0.0001\n",
    "phid=numpy.identity(4)\n",
    "for ij in range(8):\n",
    "    x= xini\n",
    "    t=0\n",
    "    phi=numpy.identity(4)\n",
    "    while(x[1]*xini[3]>=0):\n",
    "        k1=numpy.array(h*dmoon(x))\n",
    "        k2=numpy.array(h*dmoon(x+0.5*k1))\n",
    "        k3=numpy.array(h*dmoon(x+0.5*k2))\n",
    "        k4=numpy.array(h*dmoon(x+k3))\n",
    "        phid=numpy.dot(dfunc(x),phi)\n",
    "        phi=phi+phid*h\n",
    "        x=x+(k1 + 2*k2 + 2*k3 + k4)/6.00\n",
    "        t=t+h\n",
    "    delta_vy=x[2]*x[3]/(phi[2][3]*x[3]+phi[1][3]*x[2])   \n",
    "    xini[3]-=delta_vy\n",
    "print t\n",
    "xini1=numpy.array(xini)\n",
    "print xini1"
   ]
  },
  {
   "cell_type": "code",
   "execution_count": 19,
   "metadata": {
    "collapsed": false
   },
   "outputs": [
    {
     "name": "stdout",
     "output_type": "stream",
     "text": [
      "[ 0.84843181  0.          0.         -0.01813321]\n"
     ]
    }
   ],
   "source": [
    "ax=2*ax\n",
    "xini=[0.84643180576+ax , 0 , 0 ,-ax*nu*tau]\n",
    "t=0 \n",
    "x= xini\n",
    "phi = numpy.identity(4)\n",
    "h=0.0001\n",
    "phid=numpy.identity(4)\n",
    "for ij in range(8):\n",
    "    x= xini\n",
    "    t=0\n",
    "    phi=numpy.identity(4)\n",
    "    while(x[1]*xini[3]>=0):\n",
    "        k1=numpy.array(h*dmoon(x))\n",
    "        k2=numpy.array(h*dmoon(x+0.5*k1))\n",
    "        k3=numpy.array(h*dmoon(x+0.5*k2))\n",
    "        k4=numpy.array(h*dmoon(x+k3))\n",
    "        phid=numpy.dot(dfunc(x),phi)\n",
    "        phi=phi+phid*h\n",
    "        x=x+(k1 + 2*k2 + 2*k3 + k4)/6.00\n",
    "        t=t+h\n",
    "    delta_vy=x[2]*x[3]/(phi[2][3]*x[3]+phi[1][3]*x[2])   \n",
    "    xini[3]-=delta_vy\n",
    "xini2=numpy.array(xini)\n",
    "print xini2"
   ]
  },
  {
   "cell_type": "code",
   "execution_count": 20,
   "metadata": {
    "collapsed": false
   },
   "outputs": [
    {
     "name": "stdout",
     "output_type": "stream",
     "text": [
      "[ 0.84943181  0.          0.         -0.0269573 ]\n",
      "[ 0.85043181  0.          0.         -0.03563045]\n",
      "[ 0.85143181  0.          0.         -0.04416038]\n",
      "[ 0.85243181  0.          0.         -0.05255391]\n",
      "[ 0.85343181  0.          0.         -0.06081838]\n",
      "[ 0.85443181  0.          0.         -0.06895902]\n",
      "[ 0.85543181  0.          0.         -0.07698294]\n",
      "[ 0.85643181  0.          0.         -0.08489439]\n",
      "[ 0.85743181  0.          0.         -0.09270014]\n",
      "[ 0.85843181  0.          0.         -0.10040353]\n",
      "[ 0.85843181  0.          0.         -0.10040353]\n",
      "1.2928\n"
     ]
    }
   ],
   "source": [
    "for ty in range(10):\n",
    "    xini=2*xini2-xini1\n",
    "    t=0 \n",
    "    x= xini\n",
    "    phi = numpy.identity(4)\n",
    "    h=0.0001\n",
    "    phid=numpy.identity(4)\n",
    "    for ij in range(8):\n",
    "        x= xini\n",
    "        t=0\n",
    "        phi=numpy.identity(4)\n",
    "        while(x[1]*xini[3]>=0):\n",
    "            k1=numpy.array(h*dmoon(x))\n",
    "            k2=numpy.array(h*dmoon(x+0.5*k1))\n",
    "            k3=numpy.array(h*dmoon(x+0.5*k2))\n",
    "            k4=numpy.array(h*dmoon(x+k3))\n",
    "            phid=numpy.dot(dfunc(x),phi)\n",
    "            phi=phi+phid*h\n",
    "            x=x+(k1 + 2*k2 + 2*k3 + k4)/6.00\n",
    "            t=t+h\n",
    "        delta_vy=x[2]*x[3]/(phi[2][3]*x[3]+phi[1][3]*x[2])   \n",
    "        xini[3]-=delta_vy\n",
    "    print xini\n",
    "    xini1=xini2\n",
    "    xini2=xini\n",
    "\n",
    "print xini2\n",
    "print t"
   ]
  },
  {
   "cell_type": "code",
   "execution_count": 22,
   "metadata": {
    "collapsed": false
   },
   "outputs": [
    {
     "name": "stdout",
     "output_type": "stream",
     "text": [
      "12927\n",
      "[  2.45784425e+03+0.j           4.05875114e-04+0.j\n",
      "   9.93860625e-01+0.11721526j   9.93860625e-01-0.11721526j]\n",
      "(0.997577814499+0j)\n",
      "[[ 0.25867375 -0.25860519 -0.10804028 -0.10804028]\n",
      " [-0.15637962 -0.15622181  0.00202866  0.00202866]\n",
      " [ 0.85530757  0.85562363  0.0009592   0.0009592 ]\n",
      " [-0.42081143  0.42026933  0.80740941  0.80740941]]\n"
     ]
    }
   ],
   "source": [
    "xmid=numpy.array([0.,0.,0.,0.])\n",
    "epsilon=10**-3\n",
    "h=0.0001\n",
    "n = int(t/h)\n",
    "print n\n",
    "y=numpy.arange(8*n).reshape((2*n,4))*1.0\n",
    "y[0]=xini2\n",
    "phi = numpy.identity(4)*1.0\n",
    "for i in range(1,2*n):\n",
    "    k1=numpy.array(h*dmoon(y[i-1]))\n",
    "    k2=numpy.array(h*dmoon(y[i-1]+0.5*k1))\n",
    "    k3=numpy.array(h*dmoon(y[i-1]+0.5*k2))\n",
    "    k4=numpy.array(h*dmoon(y[i-1]+k3))\n",
    "    y[i]=y[i-1]+(k1+2*k2+2*k3+k4)/6.0\n",
    "    phid=numpy.dot(dfunc(y[i-1]),phi)     \n",
    "    phi=phi+phid*h\n",
    "plt.plot(y[:,0],y[:,1])\n",
    "lam , eigvectors= numpy.linalg.eig(phi)\n",
    "eigvectors=numpy.real(eigvectors)\n",
    "lam = (lam)\n",
    "print lam \n",
    "print lam[0]*lam[1]\n",
    "print eigvectors"
   ]
  },
  {
   "cell_type": "code",
   "execution_count": 17,
   "metadata": {
    "collapsed": true
   },
   "outputs": [],
   "source": [
    "for i in range(1,2*n):\n",
    "    k1=numpy.array(h*dmoon(y[i-1]))\n",
    "    k2=numpy.array(h*dmoon(y[i-1]+0.5*k1))\n",
    "    k3=numpy.array(h*dmoon(y[i-1]+0.5*k2))\n",
    "    k4=numpy.array(h*dmoon(y[i-1]+k3))\n",
    "    y[i]=y[i-1]+(k1+2*k2+2*k3+k4)/6.0\n",
    "    phid=numpy.dot(dfunc(y[i-1]),phi)     \n",
    "    phi=phi+phid*h\n",
    "    '''\n",
    "    if(i%500==0):\n",
    "        h_mani=0.001\n",
    "        n_mani=100\n",
    "        y_manifold=numpy.arange(8*n_mani).reshape(2*n_mani,4)*0.0\n",
    "        dis_vector=numpy.dot(phi,eigvectors[1])\n",
    "        dis_vector=dis_vector/numpy.linalg.norm(dis_vector)\n",
    "        y_manifold[0]=y[i]+epsilon*dis_vector\n",
    "        for j in range(1, 2*n_mani):\n",
    "            \n",
    "            k1_mani=numpy.array(h_mani*dmoon(y_manifold[j-1]))\n",
    "            k2_mani=numpy.array(h_mani*dmoon(y_manifold[j-1]+0.5*k1))\n",
    "            k3_mani=numpy.array(h_mani*dmoon(y_manifold[j-1]+0.5*k2))\n",
    "            k4_mani=numpy.array(h_mani*dmoon(y_manifold[j-1]+k3))\n",
    "            y_manifold[j] = y_manifold[j-1]+(k1_mani+2*k2_mani+2*k3_mani+k4_mani)/6.0\n",
    "            if((y_manifold[j][0]<0 and y_manifold[j][1]<0) or y_manifold[j][0]>600/607.0):\n",
    "                break\n",
    "        plt.plot(y_manifold[:,0],y_manifold[:,1])\n",
    "        '''\n",
    "    if(i%500==100):\n",
    "        h_mani=0.001\n",
    "        n_mani=1500\n",
    "        y_manifold=numpy.arange(8*n_mani).reshape(2*n_mani,4)*0.0\n",
    "        dis_vector=numpy.dot(phi,eigvectors[0])\n",
    "        dis_vector=dis_vector/numpy.linalg.norm(dis_vector)\n",
    "        y_manifold[0]=y[i]+epsilon*dis_vector\n",
    "        for j in range(1, 2*n_mani):\n",
    "            \n",
    "            k1_mani=numpy.array(h_mani*dmoon(y_manifold[j-1]))\n",
    "            k2_mani=numpy.array(h_mani*dmoon(y_manifold[j-1]+0.5*k1))\n",
    "            k3_mani=numpy.array(h_mani*dmoon(y_manifold[j-1]+0.5*k2))\n",
    "            k4_mani=numpy.array(h_mani*dmoon(y_manifold[j-1]+k3))\n",
    "            y_manifold[j] = y_manifold[j-1]+(k1_mani+2*k2_mani+2*k3_mani+k4_mani)/6.0\n",
    "            if((y_manifold[j][0]<0 and y_manifold[j][1]<0) or y_manifold[j][0]>600/607.0):\n",
    "                break\n",
    "        plt.plot(y_manifold[:,0],y_manifold[:,1])"
   ]
  },
  {
   "cell_type": "code",
   "execution_count": null,
   "metadata": {
    "collapsed": true
   },
   "outputs": [],
   "source": []
  }
 ],
 "metadata": {
  "kernelspec": {
   "display_name": "Python 2",
   "language": "python",
   "name": "python2"
  },
  "language_info": {
   "codemirror_mode": {
    "name": "ipython",
    "version": 2
   },
   "file_extension": ".py",
   "mimetype": "text/x-python",
   "name": "python",
   "nbconvert_exporter": "python",
   "pygments_lexer": "ipython2",
   "version": "2.7.13"
  }
 },
 "nbformat": 4,
 "nbformat_minor": 2
}
